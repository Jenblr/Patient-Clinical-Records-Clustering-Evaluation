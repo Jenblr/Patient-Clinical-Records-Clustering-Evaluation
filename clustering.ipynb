{
 "cells": [
  {
   "cell_type": "markdown",
   "metadata": {},
   "source": [
    "## Clustering\n",
    "### Author: Jennifer Nguyen\n",
    "### UH ID: 2381357"
   ]
  },
  {
   "cell_type": "code",
   "execution_count": 35,
   "metadata": {},
   "outputs": [],
   "source": [
    "import numpy as np\n",
    "import pandas as pd\n",
    "from sklearn.cluster import KMeans\n",
    "from sklearn.cluster import DBSCAN\n",
    "from sklearn.metrics import silhouette_score\n",
    "from collections import Counter"
   ]
  },
  {
   "cell_type": "code",
   "execution_count": 36,
   "metadata": {},
   "outputs": [],
   "source": [
    "records = pd.read_csv('clinical_records_dataset.csv')\n",
    "\n",
    "def prepare_data(records):\n",
    "    X = records.drop(['time', 'DEATH_EVENT'], axis=1)\n",
    "    y_true = records['DEATH_EVENT'].values\n",
    "    return X, y_true"
   ]
  },
  {
   "cell_type": "markdown",
   "metadata": {},
   "source": [
    "---"
   ]
  },
  {
   "cell_type": "markdown",
   "metadata": {},
   "source": [
    "### Function for MinMax feature normalization\n",
    "The input `x` is the raw data in a 2-D array of the shape `(number of data points, number of features`.\n",
    "\n",
    "The output `x_norm` is the normalized data of the input `x` with the same shape as the input.\n",
    "\n",
    "This function will be used for normalizing data before using DBSCAN for clustering.\n"
   ]
  },
  {
   "cell_type": "code",
   "execution_count": 37,
   "metadata": {},
   "outputs": [],
   "source": [
    "def feature_norm(x):\n",
    "    # x is a 2-D array of the shape (number of data points, number of features\n",
    "    eps = np.finfo(float).eps\n",
    "    x_norm = x - np.expand_dims(x.min(0), axis=0)\n",
    "    x_norm = x_norm / (np.expand_dims((x.max(0) - x.min(0)), axis=0) + eps)\n",
    "    \n",
    "    return x_norm\n"
   ]
  },
  {
   "cell_type": "markdown",
   "metadata": {},
   "source": [
    "---"
   ]
  },
  {
   "cell_type": "markdown",
   "metadata": {},
   "source": [
    "### **Task 1:** Function for computing purity\n",
    "This is your function of purity.\n",
    "\n",
    "The indices of the clusters in `y_true` and `y_pred` start from 0 in `compute_purity`, e.g., [1, 1, 0, 0, 2, 2, 2].\n",
    "\n",
    "`y_true` is the array of true class indices of all data points, `len(y_true)=number of data points`. = Ground truth class labels\n",
    "\n",
    "`y_pred` is the array of cluster indices of all data points, `len(y_pred)=number of data points`. = Predicted cluster labels\n",
    "\n",
    "'purity': a number between 0 and 1, with 1 being the best possible purity score"
   ]
  },
  {
   "cell_type": "code",
   "execution_count": 38,
   "metadata": {},
   "outputs": [],
   "source": [
    "def compute_purity(y_true, y_pred):\n",
    "    y_true = np.asarray(y_true)\n",
    "    y_pred = np.asarray(y_pred)\n",
    "\n",
    "    if len(y_true) != len(y_pred):\n",
    "        raise ValueError(\"ERROR: The length of y_true and y_pred must equal!\")\n",
    "    \n",
    "    clusters = np.unique(y_pred)\n",
    "\n",
    "    total_correct = 0\n",
    "\n",
    "    for cluster in clusters:\n",
    "        cluster_indices = np.where(y_pred == cluster)[0]\n",
    "        cluster_true_labels = y_true[cluster_indices]\n",
    "\n",
    "        if len(cluster_true_labels) > 0:\n",
    "            label_counts = Counter(cluster_true_labels)\n",
    "            total_correct += max(label_counts.values())\n",
    "    \n",
    "    purity = total_correct / len(y_true)\n",
    "    return purity\n",
    "\n"
   ]
  },
  {
   "cell_type": "markdown",
   "metadata": {},
   "source": [
    "Testing if function works w/ example from Task 1 Assignment"
   ]
  },
  {
   "cell_type": "code",
   "execution_count": 39,
   "metadata": {},
   "outputs": [
    {
     "name": "stdout",
     "output_type": "stream",
     "text": [
      "Test 1: Assignment example\n",
      "Purity score: 0.750\n"
     ]
    }
   ],
   "source": [
    "print(\"Test 1: Assignment example\")\n",
    "y_true_test = [0, 0, 0, 0, 0, 1, 1, 1, 1, 1, 2, 2, 2, 2, 2, 2]\n",
    "y_pred_test = [2, 2, 1, 2, 2, 2, 0, 0, 0, 1, 2, 1, 1, 1, 1, 1]\n",
    "purity_score = compute_purity(y_true_test, y_pred_test)\n",
    "print(f\"Purity score: {purity_score:.3f}\") "
   ]
  },
  {
   "cell_type": "markdown",
   "metadata": {},
   "source": [
    "---"
   ]
  },
  {
   "cell_type": "markdown",
   "metadata": {},
   "source": [
    "### **Task 2:** Running K-means\n",
    "- k = 2\n",
    "- Calculate percentage of points in each cluster\n",
    "- Calculate overall purity score\n",
    "- Calculate purity for each individual cluster\n",
    "- Determine which cluster has highest purity\n"
   ]
  },
  {
   "cell_type": "code",
   "execution_count": 40,
   "metadata": {},
   "outputs": [
    {
     "name": "stdout",
     "output_type": "stream",
     "text": [
      "\n",
      "K-means Clustering Results (k=2):\n",
      "\n",
      "Percentage of points in each cluster:\n",
      "Cluster 0: 78.3%\n",
      "Cluster 1: 21.7%\n",
      "\n",
      "Overall purity score: 0.679\n",
      "\n",
      "Purity score for each cluster:\n",
      "Cluster 0: 0.692\n",
      "Cluster 1: 0.631\n",
      "\n",
      "Cluster Cluster 0 has the highest purity: 0.692\n"
     ]
    }
   ],
   "source": [
    "def run_kmeans_analysis(X, y_true):\n",
    "    kmeans = KMeans(n_clusters=2, random_state=42)\n",
    "    y_pred = kmeans.fit_predict(X)\n",
    "    \n",
    "    # Calculate percentage of points in each cluster\n",
    "    cluster_counts = Counter(y_pred)\n",
    "    total_points = len(y_pred)\n",
    "    cluster_percentages = {\n",
    "        f\"Cluster {k}\": f\"{(v/total_points)*100:.1f}%\" \n",
    "        for k, v in cluster_counts.items()\n",
    "    }\n",
    "    \n",
    "    # Calculate overall purity\n",
    "    overall_purity = compute_purity(y_true, y_pred)\n",
    "    \n",
    "    # Calculate purity for each cluster\n",
    "    cluster_purities = {}\n",
    "    for cluster_id in [0, 1]:\n",
    "        cluster_mask = (y_pred == cluster_id)\n",
    "        if sum(cluster_mask) > 0: \n",
    "            cluster_true_labels = y_true[cluster_mask]\n",
    "            label_counts = Counter(cluster_true_labels)\n",
    "            majority_count = max(label_counts.values())\n",
    "            cluster_purity = majority_count / sum(cluster_mask)\n",
    "            cluster_purities[f\"Cluster {cluster_id}\"] = cluster_purity\n",
    "    \n",
    "    return {\n",
    "        'cluster_percentages': cluster_percentages,\n",
    "        'overall_purity': overall_purity,\n",
    "        'cluster_purities': cluster_purities,\n",
    "        'predictions': y_pred\n",
    "    }\n",
    "\n",
    "X, y_true = prepare_data(records)\n",
    "results = run_kmeans_analysis(X, y_true)\n",
    "\n",
    "# Results:\n",
    "print(\"\\nK-means Clustering Results (k=2):\")\n",
    "\n",
    "print(\"\\nPercentage of points in each cluster:\")\n",
    "for cluster, percentage in results['cluster_percentages'].items():\n",
    "    print(f\"{cluster}: {percentage}\")\n",
    "\n",
    "print(f\"\\nOverall purity score: {results['overall_purity']:.3f}\")\n",
    "\n",
    "print(\"\\nPurity score for each cluster:\")\n",
    "for cluster, purity in results['cluster_purities'].items():\n",
    "    print(f\"{cluster}: {purity:.3f}\")\n",
    "\n",
    "highest_purity_cluster = max(results['cluster_purities'].items(), key=lambda x: x[1])\n",
    "print(f\"\\nCluster {highest_purity_cluster[0]} has the highest purity: {highest_purity_cluster[1]:.3f}\")"
   ]
  },
  {
   "cell_type": "markdown",
   "metadata": {},
   "source": [
    "---"
   ]
  },
  {
   "cell_type": "markdown",
   "metadata": {},
   "source": [
    "### **Task 3:** Experimenting with Different Values of k\n",
    "- k = 2, 10, 30, 50, 100\n",
    "- Run K-means 10x for each value\n",
    "- Compute average purity of clustering over the 10 runs\n",
    "- Compute average Silhouette coefficient of clustering over the 10 runs\n",
    "- Silhouette coefficient = Eucildean distance"
   ]
  },
  {
   "cell_type": "code",
   "execution_count": 41,
   "metadata": {},
   "outputs": [
    {
     "name": "stdout",
     "output_type": "stream",
     "text": [
      "\n",
      "K-Means Experiments Results:\n"
     ]
    },
    {
     "data": {
      "text/html": [
       "<style type=\"text/css\">\n",
       "#T_7b17c th {\n",
       "  text-align: center;\n",
       "}\n",
       "#T_7b17c_row0_col0, #T_7b17c_row0_col1, #T_7b17c_row0_col2, #T_7b17c_row1_col0, #T_7b17c_row1_col1, #T_7b17c_row1_col2, #T_7b17c_row2_col0, #T_7b17c_row2_col1, #T_7b17c_row2_col2, #T_7b17c_row3_col0, #T_7b17c_row3_col1, #T_7b17c_row3_col2, #T_7b17c_row4_col0, #T_7b17c_row4_col1, #T_7b17c_row4_col2 {\n",
       "  text-align: center;\n",
       "}\n",
       "</style>\n",
       "<table id=\"T_7b17c\">\n",
       "  <thead>\n",
       "    <tr>\n",
       "      <th class=\"blank level0\" >&nbsp;</th>\n",
       "      <th id=\"T_7b17c_level0_col0\" class=\"col_heading level0 col0\" >k</th>\n",
       "      <th id=\"T_7b17c_level0_col1\" class=\"col_heading level0 col1\" >Purity</th>\n",
       "      <th id=\"T_7b17c_level0_col2\" class=\"col_heading level0 col2\" >Silhouette\n",
       "Coefficient</th>\n",
       "    </tr>\n",
       "  </thead>\n",
       "  <tbody>\n",
       "    <tr>\n",
       "      <th id=\"T_7b17c_level0_row0\" class=\"row_heading level0 row0\" >0</th>\n",
       "      <td id=\"T_7b17c_row0_col0\" class=\"data row0 col0\" >2</td>\n",
       "      <td id=\"T_7b17c_row0_col1\" class=\"data row0 col1\" >0.679</td>\n",
       "      <td id=\"T_7b17c_row0_col2\" class=\"data row0 col2\" >0.568</td>\n",
       "    </tr>\n",
       "    <tr>\n",
       "      <th id=\"T_7b17c_level0_row1\" class=\"row_heading level0 row1\" >1</th>\n",
       "      <td id=\"T_7b17c_row1_col0\" class=\"data row1 col0\" >10</td>\n",
       "      <td id=\"T_7b17c_row1_col1\" class=\"data row1 col1\" >0.685</td>\n",
       "      <td id=\"T_7b17c_row1_col2\" class=\"data row1 col2\" >0.581</td>\n",
       "    </tr>\n",
       "    <tr>\n",
       "      <th id=\"T_7b17c_level0_row2\" class=\"row_heading level0 row2\" >2</th>\n",
       "      <td id=\"T_7b17c_row2_col0\" class=\"data row2 col0\" >30</td>\n",
       "      <td id=\"T_7b17c_row2_col1\" class=\"data row2 col1\" >0.700</td>\n",
       "      <td id=\"T_7b17c_row2_col2\" class=\"data row2 col2\" >0.553</td>\n",
       "    </tr>\n",
       "    <tr>\n",
       "      <th id=\"T_7b17c_level0_row3\" class=\"row_heading level0 row3\" >3</th>\n",
       "      <td id=\"T_7b17c_row3_col0\" class=\"data row3 col0\" >50</td>\n",
       "      <td id=\"T_7b17c_row3_col1\" class=\"data row3 col1\" >0.722</td>\n",
       "      <td id=\"T_7b17c_row3_col2\" class=\"data row3 col2\" >0.562</td>\n",
       "    </tr>\n",
       "    <tr>\n",
       "      <th id=\"T_7b17c_level0_row4\" class=\"row_heading level0 row4\" >4</th>\n",
       "      <td id=\"T_7b17c_row4_col0\" class=\"data row4 col0\" >100</td>\n",
       "      <td id=\"T_7b17c_row4_col1\" class=\"data row4 col1\" >0.765</td>\n",
       "      <td id=\"T_7b17c_row4_col2\" class=\"data row4 col2\" >0.513</td>\n",
       "    </tr>\n",
       "  </tbody>\n",
       "</table>\n"
      ],
      "text/plain": [
       "<pandas.io.formats.style.Styler at 0x1e8d314f4a0>"
      ]
     },
     "metadata": {},
     "output_type": "display_data"
    },
    {
     "name": "stdout",
     "output_type": "stream",
     "text": [
      "\n",
      "Best k for Purity: 100\n",
      "Best k for Silhouette Coefficient: 10\n",
      "\n",
      "Purity changes with increasing k:\n",
      "k=10: +0.006\n",
      "k=30: +0.015\n",
      "k=50: +0.021\n",
      "k=100: +0.043\n"
     ]
    }
   ],
   "source": [
    "def run_multiple_kmeans(X, y_true, k_values, n_runs=10):\n",
    "    results = {\n",
    "        'k': [],\n",
    "        'Purity': [],\n",
    "        'Silhouette\\nCoefficient': []\n",
    "    }\n",
    "    \n",
    "    for k in k_values:\n",
    "        purities = []\n",
    "        silhouettes = []\n",
    "        \n",
    "        for _ in range(n_runs):\n",
    "            kmeans = KMeans(n_clusters=k, random_state=None)\n",
    "            y_pred = kmeans.fit_predict(X)\n",
    "\n",
    "            purities.append(compute_purity(y_true, y_pred))\n",
    "            silhouettes.append(silhouette_score(X, y_pred, metric='euclidean'))\n",
    "        \n",
    "        results['k'].append(k)\n",
    "        results['Purity'].append(np.mean(purities))\n",
    "        results['Silhouette\\nCoefficient'].append(np.mean(silhouettes))\n",
    "    \n",
    "    return pd.DataFrame(results)\n",
    "\n",
    "# Run experiments\n",
    "k_values = [2, 10, 30, 50, 100]\n",
    "results_df = run_multiple_kmeans(X, y_true, k_values)\n",
    "\n",
    "print(\"\\nK-Means Experiments Results:\")\n",
    "display(results_df.style.format({\n",
    "    'Purity': '{:.3f}',\n",
    "    'Silhouette\\nCoefficient': '{:.3f}'\n",
    "}).set_properties(**{'text-align': 'center'})\n",
    ".set_table_styles([\n",
    "    {'selector': 'th', 'props': [('text-align', 'center')]}\n",
    "]))\n",
    "\n",
    "# Analysis\n",
    "best_k_purity = results_df.loc[results_df['Purity'].idxmax(), 'k']\n",
    "best_k_silhouette = results_df.loc[results_df['Silhouette\\nCoefficient'].idxmax(), 'k']\n",
    "\n",
    "print(f\"\\nBest k for Purity: {best_k_purity}\")\n",
    "print(f\"Best k for Silhouette Coefficient: {best_k_silhouette}\")\n",
    "\n",
    "# Analyze purity changes\n",
    "purity_changes = results_df['Purity'].diff()\n",
    "print(\"\\nPurity changes with increasing k:\")\n",
    "for k, change in zip(results_df['k'][1:], purity_changes[1:]):\n",
    "    print(f\"k={k}: {change:+.3f}\")"
   ]
  },
  {
   "cell_type": "markdown",
   "metadata": {},
   "source": [
    "---"
   ]
  },
  {
   "cell_type": "markdown",
   "metadata": {},
   "source": [
    "### **Task 4:** DBSCAN Experiments\n",
    "- Apply MinMax normalization\n",
    "- Run DBSCAN on normalized data:\n",
    "    - eps = 0.3, 0.5, 0.7\n",
    "    - fix minPTs = 5\n",
    "    - metric = Euclidean distance\n",
    "- Count total number of clusters\n",
    "- Count total number of anomalies \n",
    "- Calculate purity of clustering"
   ]
  },
  {
   "cell_type": "code",
   "execution_count": 43,
   "metadata": {},
   "outputs": [
    {
     "name": "stdout",
     "output_type": "stream",
     "text": [
      "\n",
      "DBSCAN Experiments Results:\n"
     ]
    },
    {
     "data": {
      "text/html": [
       "<style type=\"text/css\">\n",
       "#T_9069c th {\n",
       "  text-align: center;\n",
       "}\n",
       "#T_9069c_row0_col0, #T_9069c_row0_col1, #T_9069c_row0_col2, #T_9069c_row0_col3, #T_9069c_row1_col0, #T_9069c_row1_col1, #T_9069c_row1_col2, #T_9069c_row1_col3, #T_9069c_row2_col0, #T_9069c_row2_col1, #T_9069c_row2_col2, #T_9069c_row2_col3 {\n",
       "  text-align: center;\n",
       "}\n",
       "</style>\n",
       "<table id=\"T_9069c\">\n",
       "  <thead>\n",
       "    <tr>\n",
       "      <th class=\"blank level0\" >&nbsp;</th>\n",
       "      <th id=\"T_9069c_level0_col0\" class=\"col_heading level0 col0\" >eps</th>\n",
       "      <th id=\"T_9069c_level0_col1\" class=\"col_heading level0 col1\" >Number of\n",
       "Clusters</th>\n",
       "      <th id=\"T_9069c_level0_col2\" class=\"col_heading level0 col2\" >Number of\n",
       "Anomalies</th>\n",
       "      <th id=\"T_9069c_level0_col3\" class=\"col_heading level0 col3\" >Purity</th>\n",
       "    </tr>\n",
       "  </thead>\n",
       "  <tbody>\n",
       "    <tr>\n",
       "      <th id=\"T_9069c_level0_row0\" class=\"row_heading level0 row0\" >0</th>\n",
       "      <td id=\"T_9069c_row0_col0\" class=\"data row0 col0\" >0.3</td>\n",
       "      <td id=\"T_9069c_row0_col1\" class=\"data row0 col1\" >18</td>\n",
       "      <td id=\"T_9069c_row0_col2\" class=\"data row0 col2\" >146</td>\n",
       "      <td id=\"T_9069c_row0_col3\" class=\"data row0 col3\" >0.778</td>\n",
       "    </tr>\n",
       "    <tr>\n",
       "      <th id=\"T_9069c_level0_row1\" class=\"row_heading level0 row1\" >1</th>\n",
       "      <td id=\"T_9069c_row1_col0\" class=\"data row1 col0\" >0.5</td>\n",
       "      <td id=\"T_9069c_row1_col1\" class=\"data row1 col1\" >22</td>\n",
       "      <td id=\"T_9069c_row1_col2\" class=\"data row1 col2\" >21</td>\n",
       "      <td id=\"T_9069c_row1_col3\" class=\"data row1 col3\" >0.701</td>\n",
       "    </tr>\n",
       "    <tr>\n",
       "      <th id=\"T_9069c_level0_row2\" class=\"row_heading level0 row2\" >2</th>\n",
       "      <td id=\"T_9069c_row2_col0\" class=\"data row2 col0\" >0.7</td>\n",
       "      <td id=\"T_9069c_row2_col1\" class=\"data row2 col1\" >22</td>\n",
       "      <td id=\"T_9069c_row2_col2\" class=\"data row2 col2\" >13</td>\n",
       "      <td id=\"T_9069c_row2_col3\" class=\"data row2 col3\" >0.703</td>\n",
       "    </tr>\n",
       "  </tbody>\n",
       "</table>\n"
      ],
      "text/plain": [
       "<pandas.io.formats.style.Styler at 0x1e8d30ac500>"
      ]
     },
     "metadata": {},
     "output_type": "display_data"
    },
    {
     "name": "stdout",
     "output_type": "stream",
     "text": [
      "\n",
      "Best eps for Purity: 0.3 (Purity: 0.778)\n",
      "\n",
      "Detailed Analysis:\n",
      "\n",
      "eps = 0.3:\n",
      "- Number of Clusters: 18.0\n",
      "- Number of Anomalies: 146.0 (48.8% of data)\n",
      "- Purity: 0.778\n",
      "\n",
      "eps = 0.5:\n",
      "- Number of Clusters: 22.0\n",
      "- Number of Anomalies: 21.0 (7.0% of data)\n",
      "- Purity: 0.701\n",
      "\n",
      "eps = 0.7:\n",
      "- Number of Clusters: 22.0\n",
      "- Number of Anomalies: 13.0 (4.3% of data)\n",
      "- Purity: 0.703\n"
     ]
    }
   ],
   "source": [
    "def run_dbscan_experiments(X, y_true, eps_values, min_pts):\n",
    "    results = {\n",
    "        'eps': [],\n",
    "        'Number of\\nClusters': [],\n",
    "        'Number of\\nAnomalies': [],\n",
    "        'Purity': []\n",
    "    }\n",
    "    \n",
    "    for eps in eps_values:\n",
    "        dbscan = DBSCAN(eps=eps, min_samples=min_pts, metric='euclidean')\n",
    "        y_pred = dbscan.fit_predict(X)\n",
    "        \n",
    "        # Count clusters\n",
    "        n_clusters = len(set(y_pred[y_pred != -1]))\n",
    "        \n",
    "        # Count anomalies \n",
    "        n_anomalies = np.sum(y_pred == -1)\n",
    "        \n",
    "        # Calculate purity \n",
    "        if n_clusters > 0:\n",
    "            valid_points = y_pred != -1\n",
    "            if np.any(valid_points):\n",
    "                purity = compute_purity(y_true[valid_points], y_pred[valid_points])\n",
    "            else:\n",
    "                purity = 0\n",
    "        else:\n",
    "            purity = 0\n",
    "\n",
    "        results['eps'].append(eps)\n",
    "        results['Number of\\nClusters'].append(n_clusters)\n",
    "        results['Number of\\nAnomalies'].append(n_anomalies)\n",
    "        results['Purity'].append(purity)\n",
    "    \n",
    "    return pd.DataFrame(results)\n",
    "\n",
    "X_normalized = feature_norm(X)\n",
    "\n",
    "eps_values = [0.3, 0.5, 0.7]\n",
    "min_pts = 5\n",
    "\n",
    "results_df = run_dbscan_experiments(X_normalized, y_true, eps_values, min_pts)\n",
    "\n",
    "# Results:\n",
    "print(\"\\nDBSCAN Experiments Results:\")\n",
    "display(results_df.style.format({\n",
    "    'eps': '{:.1f}',\n",
    "    'Number of\\nClusters': '{:d}',\n",
    "    'Number of\\nAnomalies': '{:d}',\n",
    "    'Purity': '{:.3f}'\n",
    "}).set_properties(**{'text-align': 'center'})\n",
    ".set_table_styles([\n",
    "    {'selector': 'th', 'props': [('text-align', 'center')]}\n",
    "]))\n",
    "\n",
    "# Find best eps for purity\n",
    "best_eps = results_df.loc[results_df['Purity'].idxmax(), 'eps']\n",
    "best_purity = results_df['Purity'].max()\n",
    "print(f\"\\nBest eps for Purity: {best_eps:.1f} (Purity: {best_purity:.3f})\")\n",
    "\n",
    "print(\"\\nDetailed Analysis:\")\n",
    "for _, row in results_df.iterrows():\n",
    "    print(f\"\\neps = {row['eps']:.1f}:\")\n",
    "    print(f\"- Number of Clusters: {row['Number of\\nClusters']}\")\n",
    "    print(f\"- Number of Anomalies: {row['Number of\\nAnomalies']} \" \n",
    "          f\"({row['Number of\\nAnomalies']/len(X)*100:.1f}% of data)\")\n",
    "    print(f\"- Purity: {row['Purity']:.3f}\")"
   ]
  }
 ],
 "metadata": {
  "kernelspec": {
   "display_name": "Python 3",
   "language": "python",
   "name": "python3"
  },
  "language_info": {
   "codemirror_mode": {
    "name": "ipython",
    "version": 3
   },
   "file_extension": ".py",
   "mimetype": "text/x-python",
   "name": "python",
   "nbconvert_exporter": "python",
   "pygments_lexer": "ipython3",
   "version": "3.12.4"
  }
 },
 "nbformat": 4,
 "nbformat_minor": 2
}
